{
 "cells": [
  {
   "cell_type": "markdown",
   "metadata": {},
   "source": [
    "Please fill out the information of your group!\n",
    "\n",
    "| <p style=\"text-align: center;\">First Name</p> | <p style=\"text-align: center;\">Family Name</p> | Matr.-No. |\n",
    "|-----------------------------------------------|------------------------------------------------|-----------|\n",
    "| <p style=\"text-align: left\">*EDIT!*</p>       | <p style=\"text-align: left\">*EDIT!*</p>        | *EDIT!*   |\n",
    "| <p style=\"text-align: left\">Michael</p>         | <p style=\"text-align: left\">Weiß</p>           | 01603725  |\n",
    "\n"
   ]
  },
  {
   "cell_type": "markdown",
   "metadata": {},
   "source": [
    "<h2 style=\"text-align: center\">344.105/6/7 UE: Natural Language Processing (WS2021/22)</h2>\n",
    "<h1 style=\"color:rgb(0,120,170)\">Assignment 2</h1>\n",
    "<h2 style=\"color:rgb(0,120,170)\">Getting to Know Word Embedding!</h2>"
   ]
  },
  {
   "cell_type": "markdown",
   "metadata": {},
   "source": [
    "<div style=\"background-color:rgb(224, 243, 255)\">\n",
    "<b>Terms of Use</b><br>\n",
    "This  material is prepared for educational purposes at the Johannes Kepler University Linz (JKU), and is exclusively provided to the registered students of the mentioned course at JKU. It is strictly forbidden to distribute the current file, the contents of the assignment, and its solution. The use or reproduction of this manuscript is only allowed for educational purposes in non-profit organizations, while in this case, the explicit prior acceptance of the author(s) is required.\n",
    "\n",
    "**Author:** Navid Rekab-saz<br>\n",
    "**Email:** navid.rekabsaz@jku.at<br>\n",
    "\n",
    "</div>"
   ]
  },
  {
   "cell_type": "markdown",
   "metadata": {},
   "source": [
    "<h2>Table of contents</h2>\n",
    "<ol>\n",
    "    <a href=\"#section-general-guidelines\"><li style=\"font-size:large;font-weight:bold\">General Guidelines</li></a>\n",
    "    <a href=\"#section-taskA\"><li style=\"font-size:large;font-weight:bold\">Task A: Similarity, Nearest Neighbors, and WE Evaluation (20 points)</li></a>\n",
    "    <a href=\"#section-taskB\"><li style=\"font-size:large;font-weight:bold\">Task B: Document Classification with WE (10 points)</li></a>\n",
    "    <a href=\"#section-taskC\"><li style=\"font-size:large;font-weight:bold\">Task C: Classification with sent2vec Document Embeddings (2 extra point)</li></a>\n",
    "    <a href=\"#section-references\"><li style=\"font-size:large;font-weight:bold\">References</li></a>\n",
    "    \n",
    "</ol>"
   ]
  },
  {
   "cell_type": "markdown",
   "metadata": {},
   "source": [
    "<a name=\"section-general-guidelines\"></a><h2 style=\"color:rgb(0,120,170)\">General Guidelines</h2>"
   ]
  },
  {
   "cell_type": "markdown",
   "metadata": {},
   "source": [
    "<div style=\"background-color:rgb(224, 243, 255)\">\n",
    "\n",
    "### Assignment objective\n",
    "The aim of this assignment is to get familiarized with using word embedding (WE) models in practice. The assignment in total has **30 points**; it also offers **2 extra points** which can cover any missing point.\n",
    "\n",
    "This Notebook encompasses all aspects of the assignment, namely the descriptions of tasks as well as your solutions and reports. Feel free to add any required cell for solutions. The cells can contain code, reports, charts, tables, or any other material, required for the assignment. Feel free to provide the solutions in an interactive and visual way! \n",
    "\n",
    "Please discuss any unclear point in the assignment in the provided forum in MOODLE. It is also encouraged to provide answers to your peer's questions. However when submitting a post, keep in mind to avoid providing solutions. Please let the tutor(s) know shall you find any error or unclarity in the assignment.\n",
    "\n",
    "### Implementation & Libraries\n",
    "\n",
    "The assignment should be implemented with recent versions of `Python` (>3.7). Any standard Python library can be used, so far that the library is free and can be simply installed using `pip` or `conda`. Examples of potentially useful libraries are `scikit-learn`, `numpy`, `scipy`, `gensim`, `nltk`, `spaCy`, and `AllenNLP`. Use the latest stable version of each library.\n",
    "\n",
    "### Submission\n",
    "\n",
    "Each group submits one Notebook file (`.ipynb`) through MOODLE. Do not forget to put in your names and student numbers in the first cell of the Notebook. **In the submitted Notebook, all the results and visualizations should already be present, and can be observed simply by loading the Notebook in a browser.** The Notebook must be self-contained, meaning that one can run all the cells from top to bottom without any error. If you need to include extra files in the submission, compress all files (together with the Notebook) in a `zip` file and submit the zip file to MOODLE. You do not need to include the data files in the submission.\n",
    "\n",
    "Cover the questions/points, mentioned in the tasks, but also add any necessary point for understanding your experiments.  \n",
    "\n",
    "\n",
    "### Dataset\n",
    "\n",
    "To conduct the experiments, two datasets are provided. The datasets are taken from the data of `thedeep` project, produced by the DEEP (https://www.thedeep.io) platform. The DEEP is an open-source platform, which aims to facilitate processing of textual data for international humanitarian response organizations. The platform enables the classification of text excerpts, extracted from news and reports into a set of domain specific classes. The provided dataset has 12 classes (labels) like agriculture, health, and protection. \n",
    "\n",
    "The difference between the datasets is in their sizes. We refer to these as `medium` and `small`, containing an overall number of 38,000 and 12,000 annotated text excerpts, respectively. Select one of the datasets, and use it for all of the tasks. `medium` provides more data and therefore reflects a more realistic scenario. `small` is however provided for the sake of convenience, particularly if running the experiments on your available hardware takes too long. Using `medium` is generally recommended, but from the point of view of assignment grading, there is no difference between the datasets.\n",
    "\n",
    "Download the dataset from [this link](https://drive.jku.at/filr/public-link/file-download/0cce88f07c9c862b017c9cfba294077a/33590/5792942781153185740/nlp2021_22_data.zip).\n",
    "\n",
    "Whether `medium` or `small`, you will find the following files in the provided zip file:\n",
    "- `thedeep.$name$.train.txt`: Train set in csv format with three fields: sentence_id, text, and label.\n",
    "- `thedeep.$name$.validation.txt`: Validation set in csv format with three fields: sentence_id, text, and label.\n",
    "- `thedeep.$name$.test.txt`: Test set in csv format with three fields: sentence_id, text, and label.\n",
    "- `thedeep.$name$.label.txt`: Captions of the labels.\n",
    "- `README.txt`: Terms of use of the dataset.\n",
    "\n",
    "</div>\n",
    "\n"
   ]
  },
  {
   "cell_type": "markdown",
   "metadata": {},
   "source": [
    "<a name=\"section-taskA\"></a><h2 style=\"color:rgb(0,120,170)\">Task A: Similarity, Nearest Neighbors, and WE Evaluation (20 points)</h2>"
   ]
  },
  {
   "cell_type": "markdown",
   "metadata": {},
   "source": [
    "<div style=\"background-color:rgb(224, 243, 255)\">\n",
    "\n",
    "**Loading a word embedding (WE) model (2 points).** Download a pre-trained word embedding model such as word2vec (https://code.google.com/archive/p/word2vec/) or GloVe (https://nlp.stanford.edu/projects/glove/). You can load the downloaded vectors into arrays, or use libraries such as `gensim` to download and process the vectors. \n",
    "\n",
    "**Calculating word-to-word similarities (3 points).** Select <ins>3 arbitrary words</ins>, referred to as *source words*. For each source word, calculate the cosine similarities to the <ins>5 other words</ins>, that from your own linguistic judgement have various levels of semantic relations to the source word (from highly related to not related at all). Compare the output similarities with your judgements on the semantic relations of words, and report your observations. Consider that when calculating the cosine similarities, DO NOT use the provided functionalities of any library, but implement the cosine similarity as a function that takes two vectors and returns a similarity score.\n",
    "\n",
    "**Calculating nearest neighbors (7 points).** For the selected source words, retrieve the 10 nearest neighbors in the word embedding model, namely the words that have the highest similarities to the source word. Consider that when calculating the nearest neighbors, DO NOT use the provided functionalities of any library but implement it as the function that takes a source vector, a set of target vectors, and a $k$ parameter, and returns the $k$ nearest neighbors and their similarity scores. This function should provide an *efficient* calculation of nearest neighbors. An inefficient way (which should be avoided!) would be looping over the set of vectors in the word embedding model, and one by one calculating the cosine similarity of a source vector to each of the target vectors. As a hint for an efficient way, consider that in `numpy` (and other libraries), calculating the dot product of a vector to a matrix is much faster than the dot products of the vector to each vector of the matrix. (**3 out of 7 points for efficiency**)\n",
    "\n",
    "**WE evaluation (8 points).** There have been several efforts in devising benchmarking datasets to intrinsically evaluate the *goodness* of word embedding models. [Levy et al.](https://aclanthology.org/Q15-1016.pdf) [1] in Section 4.3 describe the two evaluation category of *Word Similarity* and *Analogy* tasks, reference the various datasets of each task, explain the method(s) to calculate the required quantities, and finally discribes the method to evaluate the models on the tasks. Following the descriptions in the paper, select one word similarity and one analogy dataset, download the corresponding datasets (the datasets are publicly available –– they can also be found through the cited papers), and conduct the evaluation process on the WE model. For the analogy task, conduct the experiments using both `3CosAdd` and `3CosMul` methods. Report the evaluation results. Your results should be in the range of the ones reported in the paper (for sanity check). As before, provide your own implementation of the calculations and DO NOT use the functions of libraries.\n",
    "\n",
    "</div>"
   ]
  },
  {
   "cell_type": "markdown",
   "source": [
    "<h5 style=\"color:rgb(0,120,170)\">Load a word embedding (WE) model</h5>"
   ],
   "metadata": {
    "collapsed": false,
    "pycharm": {
     "name": "#%% md\n"
    }
   }
  },
  {
   "cell_type": "code",
   "execution_count": 4,
   "outputs": [
    {
     "name": "stdout",
     "output_type": "stream",
     "text": [
      "Done\n"
     ]
    }
   ],
   "source": [
    "import gensim.downloader as api\n",
    "\n",
    "w2v_model = api.load('word2vec-google-news-300')\n",
    "print(\"Done\")"
   ],
   "metadata": {
    "collapsed": false,
    "pycharm": {
     "name": "#%%\n"
    }
   }
  },
  {
   "cell_type": "markdown",
   "source": [
    "Gute Links:\n",
    "\n",
    "[Link1](https://radimrehurek.com/gensim/auto_examples/tutorials/run_word2vec.html)\n",
    "[Link2](https://towardsdatascience.com/a-beginners-guide-to-word-embedding-with-gensim-word2vec-model-5970fa56cc92)"
   ],
   "metadata": {
    "collapsed": false,
    "pycharm": {
     "name": "#%% md\n"
    }
   }
  },
  {
   "cell_type": "code",
   "execution_count": 2,
   "outputs": [
    {
     "name": "stdout",
     "output_type": "stream",
     "text": [
      "Arbitary source words: ['SLAG', 'operationalising', 'Elliot_Onochie']\n",
      "Other words: ['Saltbreakers', 'Telescopic', 'Loock', 'Danisco', 'Voye']\n"
     ]
    }
   ],
   "source": [
    "import random\n",
    "#source_words = random.sample(w2v_model.index_to_key, 3)\n",
    "#other_words = random.sample(w2v_model.index_to_key, 5)\n",
    "source_words = ['SLAG', 'operationalising', 'Elliot_Onochie']\n",
    "other_words = ['Saltbreakers', 'Telescopic', 'Loock', 'Danisco', 'Voye']\n",
    "\n",
    "\n",
    "print(f\"Arbitary source words: {source_words}\")\n",
    "print(f\"Other words: {other_words}\")"
   ],
   "metadata": {
    "collapsed": false,
    "pycharm": {
     "name": "#%%\n"
    }
   }
  },
  {
   "cell_type": "code",
   "execution_count": 5,
   "outputs": [],
   "source": [
    "import numpy as np\n",
    "\n",
    "def cosine_similarity(model, source_word, other_word):\n",
    "    a = model[source_word]\n",
    "    b = model[other_word]\n",
    "\n",
    "    a_unit = a/np.linalg.norm(a)\n",
    "    b_unit = b/np.linalg.norm(b)\n",
    "    cos_sim = np.dot(a_unit,b_unit)\n",
    "    print(f\"Cosine Similartiy between [{source_word}] and [{other_word}] = {cos_sim}\")\n"
   ],
   "metadata": {
    "collapsed": false,
    "pycharm": {
     "name": "#%%\n"
    }
   }
  },
  {
   "cell_type": "code",
   "execution_count": 6,
   "outputs": [
    {
     "name": "stdout",
     "output_type": "stream",
     "text": [
      "Cosine Similartiy between [SLAG] and [Saltbreakers] = 0.16471149027347565\n",
      "Cosine Similartiy between [SLAG] and [Telescopic] = 0.3047965466976166\n",
      "Cosine Similartiy between [SLAG] and [Loock] = 0.2071143388748169\n",
      "Cosine Similartiy between [SLAG] and [Danisco] = 0.09718631207942963\n",
      "Cosine Similartiy between [SLAG] and [Voye] = 0.2004183530807495\n",
      "Cosine Similartiy between [operationalising] and [Saltbreakers] = 0.032088957726955414\n",
      "Cosine Similartiy between [operationalising] and [Telescopic] = 0.0555039718747139\n",
      "Cosine Similartiy between [operationalising] and [Loock] = 0.017065487802028656\n",
      "Cosine Similartiy between [operationalising] and [Danisco] = 0.05439041554927826\n",
      "Cosine Similartiy between [operationalising] and [Voye] = -0.10915619879961014\n",
      "Cosine Similartiy between [Elliot_Onochie] and [Saltbreakers] = 0.09311185777187347\n",
      "Cosine Similartiy between [Elliot_Onochie] and [Telescopic] = 0.18430015444755554\n",
      "Cosine Similartiy between [Elliot_Onochie] and [Loock] = 0.1297912746667862\n",
      "Cosine Similartiy between [Elliot_Onochie] and [Danisco] = 0.05286356434226036\n",
      "Cosine Similartiy between [Elliot_Onochie] and [Voye] = 0.20199576020240784\n"
     ]
    }
   ],
   "source": [
    "import itertools\n",
    "\n",
    "for comb in itertools.product(source_words,other_words):\n",
    "    cosine_similarity(w2v_model, comb[0],comb[1])"
   ],
   "metadata": {
    "collapsed": false,
    "pycharm": {
     "name": "#%%\n"
    }
   }
  },
  {
   "cell_type": "markdown",
   "source": [
    "<h5 style=\"color:rgb(0,120,170)\">Calculate nearest neighbors</h5>"
   ],
   "metadata": {
    "collapsed": false,
    "pycharm": {
     "name": "#%% md\n"
    }
   }
  },
  {
   "cell_type": "code",
   "execution_count": 74,
   "outputs": [
    {
     "name": "stdout",
     "output_type": "stream",
     "text": [
      "Calculation done\n",
      "[1766254  477385 1033358 1469113 1239175 1299631 1466601 1135374 1510837\n",
      " 1431532]\n",
      "['SLAG', 'TATTOO', 'FOWL', 'LOVE_YOUR', 'TEASER', 'MUCK', 'SKATEBOARD', 'BICYCLES', 'SPROUTS', 'ORIGINALS']\n",
      "[ 216866  149752  114275  177992  134995   64758 1129632  330641  117637\n",
      "  254311]\n",
      "['operationalising', 'operationalization', 'operationalize', 'Indo_US_civil', 'operationalized', 'Indo_US_nuclear', 'expeditious_implementation', 'Indo_US_nuke', 'UPA_Left', 'Minister_Veerappa_Moily']\n",
      "[1749775 1118952 1862759 1783221 1701321 1323708 2668648 1731280 1103553\n",
      "  638972]\n",
      "['Elliot_Onochie', 'Nic_McDonnell', 'Nat_Pepperell', 'Tutu_Henriques', 'Adrian_Cieslewicz', 'Craig_Faulconbridge', 'Steve_Dogbe', 'Sam_Duncum', 'Jamie_Thurlbourne', 'Yemi_Odubade']\n"
     ]
    }
   ],
   "source": [
    "def highest_similarity(model, source_words, k:int = 10):\n",
    "    vec = model[source_words]\n",
    "    mat = w2v_model.get_normed_vectors()\n",
    "    res = np.dot(vec, np.transpose(mat))\n",
    "    print(\"Calculation done\")\n",
    "\n",
    "    for n in range(res.shape[0]):\n",
    "        idx = (-res[n,:]).argsort()[:k]\n",
    "        print(idx)\n",
    "        print([w2v_model.index_to_key[i] for i in idx])\n",
    "    #mylist = res.tolist()\n",
    "    #mylist = mylist[0]\n",
    "    #print(mylist)\n",
    "    #mylist.sort()\n",
    "    #print(mylist)\n",
    "    #idx = mylist[-k:]\n",
    "    #print(idx)\n",
    "    #print(w2v_model.index_to_key[idx])\n",
    "\n",
    "    #idx = (-res[:]).argsort()[:k]\n",
    "    #print(idx)\n",
    "    #idx_list = idx.tolist()\n",
    "    #print(idx_list)\n",
    "    #for n in idx_list[0]:\n",
    "     #   print(w2v_model.index_to_key[n])\n",
    "\n",
    "highest_similarity(w2v_model,source_words,10)"
   ],
   "metadata": {
    "collapsed": false,
    "pycharm": {
     "name": "#%%\n"
    }
   }
  },
  {
   "cell_type": "code",
   "execution_count": 68,
   "outputs": [
    {
     "data": {
      "text/plain": "[('AT_OLD_TRAFFORD', 0.5573230385780334),\n ('RUTGERS_DeMAIO_Gina', 0.5496596097946167),\n ('RU_DUKA_Dilly', 0.5443784594535828),\n ('ECO_TOWN', 0.5436933636665344),\n ('LIBERTY_BOATENG_Joshua', 0.5435097217559814),\n ('Stubhaug', 0.542783796787262),\n ('LET_UP', 0.5418591499328613),\n ('FOR_LEEDS', 0.5408352017402649),\n ('LIBERTY_GUZMAN_Juan', 0.5400748252868652),\n ('TWO_GOALS', 0.5399582982063293)]"
     },
     "execution_count": 68,
     "metadata": {},
     "output_type": "execute_result"
    }
   ],
   "source": [
    "w2v_model.most_similar(positive=source_words, topn=10)"
   ],
   "metadata": {
    "collapsed": false,
    "pycharm": {
     "name": "#%%\n"
    }
   }
  },
  {
   "cell_type": "markdown",
   "metadata": {},
   "source": [
    "<a name=\"section-taskB\"></a><h2 style=\"color:rgb(0,120,170)\">Task B: Document Classification with WE (10 points)</h2>"
   ]
  },
  {
   "cell_type": "markdown",
   "metadata": {},
   "source": [
    "<div style=\"background-color:rgb(224, 243, 255)\">\n",
    "\n",
    "This task follows the same instruction for document classification as provided in Assignment 1. You are indeed free to reuse any part of your code in Assignment 1 for this task. In Assignment 1, the representation of each document was created using a bag of words representation followed by dimensionality reduction. In this task, the document representations are created from the pre-trained word embeddings.\n",
    "\n",
    "**Map word embeddings to dictionary words (2 points).** For every word in the dictionary (as discussed and created in Assignment 1), fetch the corresponding word embedding from the pre-trained model. If no embedding is found, initialize the corresponding word embedding randomly.\n",
    "\n",
    "**Document embedding as the average of word embeddings (5 points).** Using the word embeddings, the representation of each document is defined as the *mean of the vectors of each document's words*. In particular, given the document $d$, consisting of words $\\left[ v_1, v_2, ..., v_{|d|} \\right]$, the document representation $\\mathbf{e}_d$ is defined as:\n",
    "\n",
    "$\\mathbf{e}_d = \\frac{1}{|d|}\\sum_{i=1}^{|d|}{\\mathbf{e}_{v_i}}$\n",
    "\n",
    "where $\\mathbf{e}_{v}$ is the vector of the word $v$, and $|d|$ is the length of the document.\n",
    "\n",
    "**Classification and evaluation (3 points)** Using these new document representations, apply <ins>three classification algorithms</ins> and report the evaluation results (based on accuracy metric) on the test set.\n",
    "\n",
    "</div>"
   ]
  },
  {
   "cell_type": "code",
   "execution_count": null,
   "metadata": {},
   "outputs": [],
   "source": []
  },
  {
   "cell_type": "code",
   "execution_count": null,
   "metadata": {},
   "outputs": [],
   "source": []
  },
  {
   "cell_type": "markdown",
   "metadata": {},
   "source": [
    "<a name=\"section-taskC\"></a><h2 style=\"color:rgb(0,120,170)\">Task C: Classification with sent2vec Document Embeddings (2 extra point)</h2>"
   ]
  },
  {
   "cell_type": "markdown",
   "metadata": {},
   "source": [
    "<div style=\"background-color:rgb(224, 243, 255)\">\n",
    "\n",
    "Sent2vec [2] suggests another unsupervised approach to creating document embeddings from the underlying word embeddings. First, using the provided code in the paper, train a sendtvec model on the training set to create document embeddings. Then, repeat Task B while using the document embeddings provided by sent2vec. Similar to Task 2, conduct the classification experiments and report evaluation results.\n",
    "\n",
    "</div>"
   ]
  },
  {
   "cell_type": "code",
   "execution_count": null,
   "metadata": {},
   "outputs": [],
   "source": []
  },
  {
   "cell_type": "code",
   "execution_count": null,
   "metadata": {},
   "outputs": [],
   "source": []
  },
  {
   "cell_type": "markdown",
   "metadata": {},
   "source": [
    "<a name=\"section-references\"></a><h2 style=\"color:rgb(0,120,170)\">References</h2>"
   ]
  },
  {
   "cell_type": "markdown",
   "metadata": {},
   "source": [
    "[1] O. Levy, Y. Goldberg, and I. Dagan. Improving distributional similarity with lessons learned from word embeddings. Transactions of the Association for Computational Linguistics, 3:211– 225, 2015.\n",
    "\n",
    "[2] M. Pagliardini, P. Gupta, and M. Jaggi. Unsupervised Learning of Sentence Embeddings using Compositional n-Gram Features. In Proceedings of the conference of the North American Chapter of the Association for Computational Linguistics (NAACL), 2018."
   ]
  }
 ],
 "metadata": {
  "kernelspec": {
   "display_name": "Python 3",
   "language": "python",
   "name": "python3"
  },
  "language_info": {
   "codemirror_mode": {
    "name": "ipython",
    "version": 3
   },
   "file_extension": ".py",
   "mimetype": "text/x-python",
   "name": "python",
   "nbconvert_exporter": "python",
   "pygments_lexer": "ipython3",
   "version": "3.7.4"
  }
 },
 "nbformat": 4,
 "nbformat_minor": 4
}